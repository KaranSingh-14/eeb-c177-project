{
 "cells": [
  {
   "cell_type": "code",
   "execution_count": 1,
   "metadata": {},
   "outputs": [],
   "source": [
    "#importing my data set\n",
    "import numpy as np\n",
    "import pandas as pd\n",
    "tmp_data = pd.read_csv('Karan_Dataset.csv')\n",
    "data = tmp_data.to_numpy()"
   ]
  },
  {
   "cell_type": "code",
   "execution_count": 2,
   "metadata": {},
   "outputs": [],
   "source": [
    "#making a function that extracts out columns based on the number I input\n",
    "# then appending the output to a list\n",
    "def col_list_print(num):\n",
    "    assert num >= 0, \"Column num must be not negative\"\n",
    "    Species = (data[:, [num]]).tolist()\n",
    "    print(Species)"
   ]
  },
  {
   "cell_type": "code",
   "execution_count": 3,
   "metadata": {},
   "outputs": [
    {
     "name": "stdout",
     "output_type": "stream",
     "text": [
      "[[0.0], [0.0], [0.0], [nan], [0.0], [0.0], [0.0], [0.0], [0.0], [0.0], [1.0], [1.0], [0.0], [0.0], [0.0], [0.0], [1.0], [6.0], [0.0], [1.0], [0.0], [0.0], [0.0], [0.0], [0.0], [0.0], [0.0], [0.0], [0.0], [0.0], [0.0], [0.0], [0.0], [0.0], [0.0], [0.0], [1.0], [45.0], [0.0], [0.0], [0.0], [0.0], [0.0], [4.0], [2.0], [0.0], [0.0], [0.0], [2.0], [4.0], [19.0], [0.0], [0.0], [0.0], [1.0], [0.0], [nan], [0.0], [0.0], [0.0], [0.0], [3.0], [0.0], [0.0], [0.0], [0.0], [0.0], [0.0], [0.0], [0.0], [0.0], [3.0], [1.0], [0.0], [2.0], [0.0], [0.0], [0.0], [0.0], [0.0], [1.0], [0.0], [1.0], [0.0], [1.0], [2.0], [0.0], [22.0], [0.0], [1.0], [0.0], [0.0], [0.0], [1.0], [0.0], [2.0], [0.0], [0.0], [0.0], [0.0], [2.0], [0.0], [0.0], [0.0], [0.0], [0.0], [0.0], [25.0], [0.0], [0.0], [0.0], [0.0], [0.0], [0.0], [0.0], [0.0], [0.0], [nan], [0.0], [0.0], [0.0], [0.0], [1.0], [0.0], [3.0], [1.0], [1.0], [0.0], [0.0], [0.0], [0.0], [3.0], [0.0], [0.0], [0.0], [0.0], [0.0], [0.0], [2.0], [0.0], [1.0], [1.0], [0.0], [0.0], [0.0], [46.0], [0.0], [0.0], [1.0], [0.0], [0.0], [1.0], [1.0], [0.0], [0.0], [0.0], [0.0], [1.0], [27.0], [1.0], [0.0], [1.0], [3.0], [0.0], [1.0], [0.0], [0.0], [0.0], [nan], [0.0], [0.0], [0.0], [0.0], [1.0], [0.0], [0.0], [0.0], [0.0], [0.0], [0.0], [0.0], [3.0], [0.0], [0.0], [0.0], [0.0], [1.0], [1.0], [0.0], [0.0], [1.0], [0.0], [0.0], [0.0], [29.0], [0.0], [0.0], [0.0], [0.0], [0.0], [0.0], [0.0], [0.0], [0.0], [0.0], [0.0], [2.0], [0.0], [0.0], [0.0], [16.0], [1.0], [0.0], [0.0], [0.0], [0.0], [nan], [2.0], [0.0], [2.0], [0.0], [4.0], [0.0], [0.0], [0.0], [0.0], [5.0], [0.0], [0.0], [0.0], [0.0], [0.0], [0.0], [0.0], [1.0], [0.0], [0.0], [0.0], [0.0], [0.0], [0.0], [0.0], [0.0], [48.0], [0.0], [1.0], [0.0], [1.0], [0.0], [2.0], [4.0], [0.0], [0.0], [0.0], [0.0], [1.0], [10.0], [1.0], [0.0], [1.0], [1.0], [3.0], [1.0], [0.0], [0.0], [0.0], [0.0], [nan], [0.0], [0.0], [0.0], [0.0], [3.0], [4.0], [0.0], [1.0], [1.0], [0.0], [0.0], [0.0], [0.0], [0.0], [3.0], [0.0], [1.0], [1.0], [0.0], [0.0], [3.0], [0.0], [0.0], [0.0], [0.0], [0.0], [3.0], [0.0], [35.0], [2.0], [0.0], [0.0], [1.0], [0.0], [1.0], [1.0], [4.0], [0.0], [0.0], [3.0], [0.0], [2.0], [0.0], [1.0], [23.0], [2.0], [0.0], [0.0], [1.0], [1.0], [1.0], [0.0], [0.0], [nan], [0.0], [3.0], [0.0], [2.0], [4.0], [16.0], [1.0], [34.0], [3.0], [14.0], [0.0], [0.0], [3.0], [5.0], [17.0], [0.0], [1.0], [2.0], [1.0], [2.0], [1.0], [2.0], [0.0], [0.0], [0.0], [1.0], [1.0], [1.0], [0.0], [4.0], [50.0], [0.0], [0.0], [9.0], [0.0], [1.0], [0.0], [29.0], [2.0], [3.0], [0.0], [1.0], [3.0], [0.0], [0.0], [1.0], [27.0], [14.0], [0.0], [6.0], [1.0], [1.0], [0.0], [11.0], [5.0], [0.0], [6.0], [nan], [0.0], [0.0], [0.0], [0.0], [7.0], [5.0], [1.0], [0.0], [0.0], [0.0], [1.0], [0.0], [4.0], [0.0], [0.0], [0.0], [0.0], [0.0], [0.0], [2.0], [0.0], [1.0], [0.0], [2.0], [0.0], [0.0], [0.0], [32.0], [1.0], [1.0], [1.0], [0.0], [0.0], [4.0], [1.0], [1.0], [0.0], [0.0], [0.0], [0.0], [0.0], [3.0], [27.0], [0.0], [0.0], [0.0], [0.0], [1.0], [0.0], [nan], [0.0], [0.0], [0.0], [1.0], [33.0], [2.0], [1.0], [0.0], [0.0], [4.0], [1.0], [0.0], [0.0], [0.0], [0.0], [2.0], [1.0], [0.0], [0.0], [1.0], [44.0], [2.0], [0.0], [0.0], [11.0], [0.0], [0.0], [6.0], [0.0], [1.0], [1.0], [1.0], [1.0], [8.0], [2.0], [1.0], [0.0], [0.0], [4.0], [nan], [0.0], [0.0], [0.0], [0.0], [0.0], [2.0], [4.0], [9.0], [2.0], [1.0], [1.0], [3.0], [10.0], [0.0], [0.0], [0.0], [1.0], [1.0], [4.0], [0.0], [0.0], [0.0], [3.0], [0.0], [7.0], [1.0], [1.0], [50.0], [2.0], [0.0], [0.0], [0.0], [1.0], [0.0], [3.0], [1.0], [1.0], [1.0], [7.0], [0.0], [0.0], [1.0], [3.0], [2.0], [29.0], [3.0], [1.0], [0.0], [2.0], [2.0], [0.0], [0.0], [nan], [0.0], [1.0], [0.0], [0.0], [38.0], [1.0], [1.0], [0.0], [0.0], [1.0], [0.0], [0.0], [2.0], [0.0], [0.0], [0.0], [0.0], [0.0], [0.0], [0.0], [1.0], [2.0], [1.0], [47.0], [0.0], [0.0], [9.0], [0.0], [1.0], [0.0], [0.0], [0.0], [3.0], [0.0], [1.0], [1.0], [6.0], [26.0], [0.0], [1.0], [0.0], [0.0], [1.0], [0.0], [0.0], [1.0], [nan], [1.0], [0.0], [0.0], [1.0], [0.0], [0.0], [0.0], [0.0], [9.0], [22.0], [13.0], [0.0], [0.0], [0.0], [0.0], [1.0], [0.0], [0.0], [0.0], [1.0], [0.0], [10.0], [2.0], [0.0], [2.0], [0.0], [1.0], [1.0], [0.0], [1.0], [2.0], [19.0], [3.0], [1.0], [2.0], [0.0], [19.0], [0.0], [0.0], [2.0], [4.0], [0.0], [2.0], [1.0], [27.0], [2.0], [0.0], [1.0], [0.0], [0.0], [0.0], [6.0], [1.0], [0.0], [0.0], [2.0], [7.0], [105.0], [0.0], [1.0], [0.0], [1.0], [1.0], [0.0], [1.0], [0.0], [0.0], [1.0], [nan], [2.0], [1.0], [9.0], [0.0], [9.0], [0.0], [0.0], [0.0], [43.0], [1.0], [0.0], [0.0], [1.0], [0.0], [1.0], [0.0], [0.0], [0.0], [0.0], [0.0], [2.0], [0.0], [39.0], [0.0], [2.0], [1.0], [7.0], [6.0], [6.0], [0.0], [13.0], [2.0], [19.0], [5.0], [5.0], [1.0], [nan], [7.0], [12.0], [1.0], [0.0], [12.0], [6.0], [22.0], [0.0], [0.0], [0.0], [2.0], [3.0], [0.0], [1.0], [0.0], [1.0], [2.0], [1.0], [5.0], [8.0], [3.0], [1.0], [1.0], [31.0], [0.0], [23.0], [1.0], [6.0], [nan], [7.0], [5.0], [0.0], [0.0], [2.0], [0.0], [3.0], [17.0], [2.0], [1.0], [1.0], [0.0], [2.0], [4.0], [0.0], [1.0], [0.0], [0.0], [4.0], [8.0], [3.0], [1.0], [7.0], [6.0], [0.0], [0.0], [12.0], [3.0], [1.0], [0.0], [0.0], [39.0], [4.0], [3.0], [nan], [2.0], [10.0], [1.0], [0.0], [1.0], [19.0], [3.0], [2.0], [0.0], [4.0], [1.0], [4.0], [0.0], [2.0], [3.0], [0.0], [11.0], [8.0], [3.0], [34.0], [1.0], [1.0], [0.0], [12.0], [0.0], [1.0], [nan], [3.0], [0.0], [12.0], [1.0], [5.0], [4.0], [28.0], [3.0], [0.0], [1.0], [1.0], [3.0], [5.0], [0.0], [8.0], [0.0], [14.0], [13.0], [0.0], [9.0], [6.0], [4.0], [2.0], [22.0], [0.0], [0.0], [64.0], [7.0], [5.0], [nan], [22.0], [0.0], [6.0], [2.0], [44.0], [0.0], [1.0], [0.0], [4.0], [2.0], [6.0], [0.0], [1.0], [9.0], [1.0], [2.0], [1.0], [6.0], [8.0], [16.0], [4.0], [2.0], [14.0], [4.0], [4.0], [0.0], [0.0], [6.0], [0.0], [nan], [1.0], [10.0], [28.0], [44.0], [2.0], [0.0], [1.0], [4.0], [2.0], [0.0], [0.0], [1.0], [0.0], [2.0], [0.0], [23.0], [2.0], [0.0], [1.0], [3.0], [1.0], [1.0], [1.0], [12.0], [4.0], [1.0], [0.0], [5.0], [0.0], [1.0], [0.0], [nan], [7.0], [3.0], [1.0], [0.0], [22.0], [1.0], [0.0], [0.0], [1.0], [0.0], [0.0], [1.0], [0.0], [0.0], [1.0], [3.0], [1.0], [0.0], [3.0], [1.0], [1.0], [0.0], [1.0], [0.0], [2.0], [15.0], [1.0], [2.0], [0.0], [0.0], [1.0], [3.0], [1.0], [0.0], [1.0], [nan], [0.0], [13.0], [12.0], [9.0], [3.0], [8.0], [0.0], [1.0], [0.0], [0.0], [0.0], [2.0], [1.0], [4.0], [15.0], [0.0], [1.0], [0.0], [0.0], [0.0], [2.0], [2.0], [34.0], [0.0], [4.0], [1.0], [0.0], [0.0], [12.0], [0.0], [0.0], [1.0], [0.0], [nan], [10.0], [3.0], [6.0], [0.0], [10.0], [0.0], [0.0], [0.0], [2.0], [2.0], [0.0], [0.0], [0.0], [2.0], [2.0], [6.0], [0.0], [0.0], [0.0], [1.0], [0.0], [0.0], [0.0], [2.0], [6.0], [25.0], [0.0], [3.0], [0.0], [1.0], [0.0], [7.0], [1.0], [2.0], [1.0], [0.0], [nan], [13.0], [1.0], [3.0], [2.0], [5.0], [3.0], [0.0], [0.0], [0.0], [6.0], [14.0], [2.0], [0.0], [2.0], [11.0], [1.0], [1.0], [9.0], [2.0], [0.0], [6.0], [0.0], [0.0], [3.0], [0.0], [nan], [9.0], [5.0], [5.0], [0.0], [3.0], [0.0], [1.0], [0.0], [11.0], [0.0], [1.0], [0.0], [1.0], [0.0], [0.0], [2.0], [5.0], [0.0], [1.0], [0.0], [2.0], [3.0], [0.0], [0.0], [3.0], [28.0], [0.0], [5.0], [0.0], [0.0], [0.0], [0.0], [0.0], [21.0], [1.0], [0.0], [6.0]]\n"
     ]
    }
   ],
   "source": [
    "col_list_print(6)\n",
    "#real alba data from col 6"
   ]
  },
  {
   "cell_type": "code",
   "execution_count": 4,
   "metadata": {},
   "outputs": [
    {
     "name": "stdout",
     "output_type": "stream",
     "text": [
      "[[1.0], [0.0], [0.0], [45.0], [2.0], [6.0], [0.0], [6.0], [0.0], [2.0], [2.0], [0.0], [0.0], [1.0], [1.0], [1.0], [1.0], [15.0], [0.0], [5.0], [0.0], [0.0], [0.0], [1.0], [0.0], [3.0], [1.0], [2.0], [1.0], [1.0], [3.0], [0.0], [9.0], [3.0], [0.0], [4.0], [13.0], [nan], [7.0], [0.0], [1.0], [0.0], [2.0], [38.0], [22.0], [0.0], [0.0], [6.0], [2.0], [4.0], [37.0], [3.0], [2.0], [5.0], [12.0], [0.0], [22.0], [4.0], [4.0], [0.0], [4.0], [9.0], [0.0], [31.0], [2.0], [2.0], [1.0], [0.0], [1.0], [3.0], [4.0], [10.0], [6.0], [3.0], [0.0], [0.0], [0.0], [3.0], [1.0], [1.0], [11.0], [0.0], [0.0], [0.0], [4.0], [3.0], [7.0], [nan], [0.0], [0.0], [3.0], [1.0], [1.0], [0.0], [0.0], [42.0], [0.0], [1.0], [0.0], [38.0], [2.0], [0.0], [1.0], [1.0], [0.0], [2.0], [1.0], [24.0], [2.0], [0.0], [2.0], [19.0], [8.0], [0.0], [3.0], [1.0], [0.0], [46.0], [2.0], [4.0], [0.0], [5.0], [7.0], [3.0], [8.0], [9.0], [10.0], [1.0], [0.0], [1.0], [0.0], [12.0], [0.0], [0.0], [0.0], [0.0], [3.0], [0.0], [6.0], [0.0], [5.0], [0.0], [0.0], [0.0], [9.0], [nan], [1.0], [0.0], [1.0], [6.0], [12.0], [36.0], [2.0], [11.0], [0.0], [0.0], [2.0], [2.0], [22.0], [6.0], [1.0], [4.0], [14.0], [0.0], [26.0], [0.0], [0.0], [2.0], [29.0], [8.0], [4.0], [0.0], [3.0], [0.0], [2.0], [39.0], [0.0], [1.0], [0.0], [1.0], [0.0], [7.0], [2.0], [1.0], [3.0], [0.0], [22.0], [9.0], [1.0], [0.0], [0.0], [0.0], [2.0], [7.0], [nan], [1.0], [1.0], [1.0], [3.0], [1.0], [1.0], [22.0], [0.0], [0.0], [0.0], [0.0], [54.0], [1.0], [6.0], [0.0], [30.0], [1.0], [3.0], [2.0], [5.0], [1.0], [48.0], [11.0], [0.0], [5.0], [2.0], [32.0], [8.0], [2.0], [0.0], [0.0], [9.0], [0.0], [2.0], [2.0], [0.0], [0.0], [1.0], [4.0], [2.0], [1.0], [4.0], [0.0], [2.0], [2.0], [1.0], [1.0], [5.0], [nan], [6.0], [0.0], [1.0], [6.0], [0.0], [5.0], [38.0], [0.0], [15.0], [1.0], [0.0], [2.0], [23.0], [9.0], [1.0], [10.0], [4.0], [33.0], [0.0], [0.0], [2.0], [0.0], [0.0], [35.0], [7.0], [8.0], [0.0], [2.0], [14.0], [4.0], [0.0], [7.0], [2.0], [1.0], [0.0], [0.0], [0.0], [1.0], [7.0], [0.0], [0.0], [0.0], [0.0], [2.0], [17.0], [0.0], [0.0], [0.0], [0.0], [0.0], [9.0], [1.0], [nan], [8.0], [2.0], [0.0], [1.0], [0.0], [1.0], [4.0], [3.0], [0.0], [0.0], [14.0], [5.0], [14.0], [3.0], [4.0], [11.0], [1.0], [10.0], [2.0], [16.0], [0.0], [1.0], [0.0], [0.0], [51.0], [2.0], [3.0], [1.0], [1.0], [4.0], [14.0], [0.0], [14.0], [0.0], [4.0], [0.0], [0.0], [1.0], [3.0], [17.0], [1.0], [2.0], [0.0], [3.0], [3.0], [0.0], [0.0], [4.0], [0.0], [0.0], [2.0], [1.0], [0.0], [1.0], [4.0], [nan], [0.0], [0.0], [13.0], [0.0], [0.0], [0.0], [21.0], [2.0], [2.0], [2.0], [1.0], [5.0], [1.0], [0.0], [1.0], [23.0], [3.0], [0.0], [0.0], [2.0], [2.0], [9.0], [5.0], [8.0], [0.0], [3.0], [33.0], [2.0], [2.0], [1.0], [0.0], [6.0], [22.0], [0.0], [0.0], [1.0], [0.0], [4.0], [0.0], [12.0], [0.0], [2.0], [1.0], [0.0], [0.0], [0.0], [3.0], [1.0], [0.0], [1.0], [5.0], [0.0], [0.0], [0.0], [nan], [0.0], [0.0], [0.0], [0.0], [0.0], [6.0], [0.0], [8.0], [0.0], [2.0], [0.0], [0.0], [0.0], [1.0], [12.0], [0.0], [6.0], [6.0], [1.0], [1.0], [0.0], [44.0], [1.0], [2.0], [5.0], [3.0], [46.0], [12.0], [0.0], [1.0], [1.0], [6.0], [1.0], [0.0], [1.0], [1.0], [1.0], [5.0], [1.0], [0.0], [1.0], [7.0], [nan], [3.0], [1.0], [1.0], [73.0], [3.0], [2.0], [8.0], [1.0], [1.0], [8.0], [1.0], [6.0], [4.0], [1.0], [5.0], [2.0], [2.0], [4.0], [51.0], [1.0], [0.0], [0.0], [0.0], [0.0], [12.0], [5.0], [7.0], [2.0], [0.0], [1.0], [0.0], [7.0], [1.0], [1.0], [0.0], [0.0], [0.0], [0.0], [0.0], [1.0], [1.0], [5.0], [0.0], [1.0], [3.0], [1.0], [nan], [1.0], [2.0], [1.0], [0.0], [0.0], [0.0], [17.0], [3.0], [1.0], [5.0], [13.0], [1.0], [4.0], [3.0], [4.0], [0.0], [8.0], [0.0], [11.0], [1.0], [10.0], [0.0], [0.0], [1.0], [47.0], [10.0], [0.0], [0.0], [1.0], [149.0], [14.0], [1.0], [1.0], [6.0], [6.0], [1.0], [1.0], [3.0], [2.0], [0.0], [0.0], [1.0], [2.0], [0.0], [0.0], [7.0], [6.0], [6.0], [nan], [1.0], [1.0], [92.0], [7.0], [0.0], [0.0], [0.0], [2.0], [5.0], [0.0], [4.0], [1.0], [19.0], [16.0], [0.0], [8.0], [1.0], [1.0], [0.0], [4.0], [1.0], [1.0], [17.0], [0.0], [1.0], [1.0], [1.0], [2.0], [0.0], [1.0], [0.0], [24.0], [37.0], [2.0], [2.0], [0.0], [21.0], [1.0], [1.0], [0.0], [1.0], [2.0], [3.0], [0.0], [9.0], [0.0], [0.0], [0.0], [1.0], [2.0], [0.0], [2.0], [0.0], [0.0], [16.0], [0.0], [0.0], [3.0], [1.0], [nan], [0.0], [1.0], [0.0], [18.0], [2.0], [3.0], [0.0], [25.0], [6.0], [0.0], [0.0], [2.0], [1.0], [0.0], [4.0], [0.0], [0.0], [1.0], [0.0], [13.0], [24.0], [0.0], [4.0], [0.0], [0.0], [0.0], [3.0], [1.0], [2.0], [1.0], [1.0], [38.0], [1.0], [3.0], [2.0], [0.0], [7.0], [1.0], [1.0], [0.0], [35.0], [2.0], [0.0], [0.0], [3.0], [1.0], [9.0], [0.0], [0.0], [2.0], [0.0], [2.0], [7.0], [0.0], [nan], [0.0], [2.0], [0.0], [3.0], [9.0], [9.0], [1.0], [15.0], [5.0], [2.0], [2.0], [2.0], [0.0], [2.0], [0.0], [0.0], [0.0], [0.0], [0.0], [1.0], [1.0], [0.0], [0.0], [0.0], [0.0], [0.0], [0.0], [0.0], [0.0], [0.0], [nan], [0.0], [0.0], [0.0], [0.0], [0.0], [0.0], [1.0], [0.0], [1.0], [0.0], [0.0], [8.0], [1.0], [2.0], [0.0], [0.0], [5.0], [4.0], [0.0], [5.0], [0.0], [1.0], [0.0], [0.0], [0.0], [4.0], [0.0], [0.0], [1.0], [0.0], [2.0], [nan], [1.0], [0.0], [0.0], [3.0], [0.0], [0.0], [5.0], [1.0], [0.0], [1.0], [0.0], [0.0], [4.0], [1.0], [2.0], [0.0], [0.0], [1.0], [0.0], [0.0], [0.0], [0.0], [0.0], [0.0], [0.0], [0.0], [0.0], [0.0], [nan], [0.0], [0.0], [0.0], [0.0], [0.0], [0.0], [0.0], [0.0], [0.0], [0.0], [0.0], [0.0], [13.0], [0.0], [0.0], [0.0], [0.0], [0.0], [1.0], [1.0], [2.0], [1.0], [0.0], [0.0], [1.0], [0.0], [0.0], [0.0], [0.0], [1.0], [nan], [1.0], [4.0], [2.0], [0.0], [0.0], [4.0], [1.0], [0.0], [2.0], [2.0], [0.0], [9.0], [4.0], [0.0], [8.0], [0.0], [2.0], [0.0], [1.0], [0.0], [3.0], [2.0], [0.0], [0.0], [1.0], [nan], [0.0], [1.0], [0.0], [12.0], [3.0], [0.0], [0.0], [3.0], [3.0], [4.0], [1.0], [0.0], [0.0], [0.0], [0.0], [0.0], [0.0], [0.0], [0.0], [0.0], [0.0], [0.0], [0.0], [0.0], [0.0], [0.0], [0.0], [0.0], [0.0], [0.0], [0.0], [0.0], [0.0], [nan], [0.0], [0.0], [0.0], [0.0], [0.0], [0.0], [0.0], [0.0], [0.0], [0.0], [0.0], [1.0], [0.0], [1.0], [1.0], [0.0], [0.0], [2.0], [1.0], [0.0], [0.0], [0.0], [0.0], [0.0], [0.0], [0.0], [0.0], [0.0], [0.0], [0.0], [0.0], [0.0], [0.0], [0.0], [nan], [0.0], [0.0], [0.0], [1.0], [0.0], [0.0], [0.0], [0.0], [0.0], [0.0], [1.0], [0.0], [0.0], [0.0], [1.0], [0.0], [0.0], [0.0], [0.0], [0.0], [0.0], [0.0], [0.0], [0.0], [0.0], [0.0], [0.0], [0.0], [0.0], [0.0], [0.0], [nan], [1.0], [0.0], [0.0], [0.0], [0.0], [2.0], [0.0], [0.0], [0.0], [0.0], [0.0], [0.0], [0.0], [0.0], [0.0], [0.0], [0.0], [1.0], [0.0], [0.0], [6.0], [0.0], [0.0], [0.0], [0.0], [0.0], [0.0], [0.0], [0.0], [1.0], [0.0], [0.0], [0.0], [6.0], [0.0], [nan], [0.0], [0.0], [0.0], [0.0], [0.0], [0.0], [0.0], [0.0], [0.0], [0.0], [0.0], [1.0], [0.0], [1.0], [0.0], [0.0], [0.0], [2.0], [1.0], [0.0], [0.0], [1.0], [2.0], [0.0], [0.0], [0.0], [0.0], [0.0], [1.0], [nan], [0.0], [1.0], [0.0], [0.0], [0.0], [0.0], [0.0], [0.0], [0.0], [0.0], [0.0], [0.0], [0.0], [0.0], [0.0], [0.0], [0.0], [1.0], [0.0], [1.0], [0.0], [0.0], [0.0], [0.0], [0.0], [0.0], [0.0], [0.0], [0.0], [0.0], [0.0], [2.0], [0.0], [nan], [0.0], [0.0], [0.0], [0.0], [0.0], [0.0], [0.0], [0.0], [0.0], [0.0], [0.0], [1.0], [2.0], [0.0], [1.0], [0.0], [0.0]]\n"
     ]
    }
   ],
   "source": [
    "col_list_print(8)\n",
    "#real spart data from column 8"
   ]
  },
  {
   "cell_type": "code",
   "execution_count": 7,
   "metadata": {},
   "outputs": [],
   "source": [
    "# plotting species occurence data based on coumn input\n",
    "def allplots(num):\n",
    "    assert num >= 0, \"Column number must be positive\"\n",
    "    import matplotlib.pyplot as plt\n",
    "    Species = (data[:, [num]]).tolist()\n",
    "    empty_list = []\n",
    "    for sublist in Species:\n",
    "        for item in sublist:\n",
    "            empty_list.append(item)\n",
    "    Species = empty_list\n",
    "    y = Species\n",
    "    N = len( y )\n",
    "    x = range( N )\n",
    "    width = 1/1.5\n",
    "    plt.bar( x, y, width, color=\"blue\" )\n",
    "    plt.show()"
   ]
  },
  {
   "cell_type": "code",
   "execution_count": 8,
   "metadata": {},
   "outputs": [
    {
     "data": {
      "image/png": "[encoded data removed]",
      "text/plain": [
       "<Figure size 432x288 with 1 Axes>"
      ]
     },
     "metadata": {
      "needs_background": "light"
     },
     "output_type": "display_data"
    }
   ],
   "source": [
    "#data for Real_Alba species occurences in all environments\n",
    "allplots(6)"
   ]
  },
  {
   "cell_type": "code",
   "execution_count": 9,
   "metadata": {},
   "outputs": [
    {
     "data": {
      "image/png": "[encoded data removed]",
      "text/plain": [
       "<Figure size 432x288 with 1 Axes>"
      ]
     },
     "metadata": {
      "needs_background": "light"
     },
     "output_type": "display_data"
    }
   ],
   "source": [
    "#data for Real_Spart species occurences in all environments\n",
    "allplots(8)"
   ]
  },
  {
   "cell_type": "code",
   "execution_count": 14,
   "metadata": {},
   "outputs": [],
   "source": [
    "#getting a species count based on column input\n",
    "def col_count_val(col):\n",
    "    assert isinstance(col, str) == True, \"Please input column name correctly\"\n",
    "    coldata = tmp_data[col].tolist()\n",
    "    counts = dict()\n",
    "    for ii in coldata:\n",
    "        counts[ii] = counts.get(ii, 0) + 1\n",
    "    return counts"
   ]
  },
  {
   "cell_type": "code",
   "execution_count": 15,
   "metadata": {},
   "outputs": [
    {
     "name": "stdout",
     "output_type": "stream",
     "text": [
      "{'allium': 6, 'anacyclu': 8, 'anaga': 2, 'ARTIBA': 24, 'ASPH': 15, 'ASTER': 14, 'astrase': 4, 'avebro': 8, 'avena': 10, 'BRADI': 21, 'BRARE': 17, 'BRORU': 24, 'bublepru': 2, 'bupbal': 1, 'BUPLEU': 20, 'centa': 10, 'centratus': 2, 'DACT': 23, 'DESMA': 10, 'DIPCA': 8, 'echina': 4, 'efedra': 4, 'ely': 4, 'euphe': 3, 'festuca': 4, 'FILAGO': 22, 'GALIVE': 16, 'GENISCO': 7, 'globu': 6, 'helihirt': 3, 'HELIPI': 12, 'HELISA': 15, 'HORDEUM': 21, 'HYP': 15, 'junipho': 4, 'koelerval': 13, 'LINU': 21, 'lygi': 24, 'malcomia': 11, 'MATIOLA': 6, 'NEATOS': 22, 'OROBRAN': 1, 'PLAFRA': 19, 'PLAL': 24, 'ROME': 12, 'RUTA': 2, 'scabiosa': 6, 'SEDU': 18, 'sonchus': 18, 'SPERGULA': 10, 'STIPALAG': 15, 'taraxa': 12, 'TEUCAP': 9, 'thapsia': 4, 'THYMUVU': 13, 'ASTRAG': 18, 'brodia': 2, 'cabu': 7, 'cistuclu': 5, 'coronilla': 1, 'HEDYP': 9, 'HELYCRI': 2, 'MEDI': 6, 'peganum': 4, 'phalacan': 1, 'plalag': 8, 'POLYGALA': 6, 'rapis': 5, 'save': 22, 'sherardia': 5, 'sisymbrium': 5, 'stella': 1, 'torilis': 7, 'trisetum': 1, 'vicia': 3, 'xeran': 3, 'aizoon': 3, 'asphoce': 5, 'atrip': 7, 'buplefru': 4, 'eruca': 1, 'HELIHIRT': 3, 'hordeum': 2, 'MEDILIT': 11, 'STIPAR': 20, 'THYMELEA': 1, 'aegg': 7, 'alyaly': 2, 'astrag': 1, 'crupi': 1, 'onopus': 2, 'poabul': 5, 'rali': 1, 'RETAMA': 2, 'ANAGA': 4, 'ELY': 2, 'trigomon': 15, 'aizon': 3, 'crepifo': 3, 'LINUSUB': 1, 'MUSGO': 1, 'PEGANUM': 6, 'polymon': 4, 'aspa': 1, 'atracthu': 2, 'avenula': 1, 'bupba': 2, 'compu13': 1, 'geranium': 9, 'HERNFRU': 1, 'limon': 2, 'medilup': 1, 'phalaris': 12, 'sangui': 1, 'taenia': 3, 'astrain': 2, 'cardo1': 1, 'compu16': 1, 'cruci': 2, 'fuer': 1, 'LALA': 2, 'LOPE': 2, 'muscari': 1, 'junitur': 1, 'medilit': 4, 'trif': 1, 'dory': 1, 'erodium': 1, 'spergula': 6, 'anu14': 1, 'compu1': 1, 'crepis': 2, 'dipca': 1, 'hippocom': 1, 'brohor': 1, 'bromad': 1, 'bromus2': 1, 'diplovir': 1, 'hedyp': 3, 'lope': 1, 'mantisal': 1, 'melica': 1, 'RESE': 1, 'SENECIO': 4, 'anual': 2, 'conv': 3, 'desma': 4, 'DIPLO': 10, 'elyrep': 2, 'HEDISA': 1, 'SUAEDA': 11, 'atract': 1, 'eryca': 7, 'SAGE': 1, 'erodiun': 6, 'limonium': 3, 'silenoc': 1, 'compu': 1, 'hyp': 1, 'spheno': 4, 'dact': 1, 'helisa': 4, 'hernci': 1, 'lopho': 2, 'art': 3, 'frank': 2, 'SIDEHIR': 1, 'THYMUZY': 2, 'crucifera': 1, 'narsal': 1, 'plantula': 2, 'placor': 1}\n"
     ]
    }
   ],
   "source": [
    "# for the species columns this function is counting the number \n",
    "# of occurences for each species in the different environments\n",
    "print(col_count_val(\"species\"))"
   ]
  }
 ],
 "metadata": {
  "kernelspec": {
   "display_name": "Python 3",
   "language": "python",
   "name": "python3"
  },
  "language_info": {
   "codemirror_mode": {
    "name": "ipython",
    "version": 3
   },
   "file_extension": ".py",
   "mimetype": "text/x-python",
   "name": "python",
   "nbconvert_exporter": "python",
   "pygments_lexer": "ipython3",
   "version": "3.7.5"
  }
 },
 "nbformat": 4,
 "nbformat_minor": 2
}

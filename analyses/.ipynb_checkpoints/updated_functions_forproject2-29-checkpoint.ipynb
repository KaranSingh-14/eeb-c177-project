{
 "cells": [
  {
   "cell_type": "code",
   "execution_count": 1,
   "metadata": {},
   "outputs": [],
   "source": [
    "# importing pandas, setting tmp_data for pandas to read csv file, then transfering file to numpy as data.\n",
    "data_file = open('Karan_Dataset.csv')\n",
    "import pandas as pd\n",
    "\n",
    "tmp_data = pd.read_csv(data_file)\n",
    "data = tmp_data.to_numpy()\n",
    "data_file.close()"
   ]
  },
  {
   "cell_type": "code",
   "execution_count": 5,
   "metadata": {},
   "outputs": [],
   "source": [
    "# creating a function \n",
    "#that will print only the unique names from the Location list\n",
    "def extractinfo(file, num=1): \n",
    "    # data file is being opened\n",
    "    data_file = open(file)\n",
    "    # importing pandas\n",
    "    import pandas as pd\n",
    "    # setting tmp_data and allowing it to be formed into pandas\n",
    "    tmp_data = pd.read_csv(data_file)\n",
    "    # setting data file equal to numpy\n",
    "    data = tmp_data.to_numpy()\n",
    "    # Creating a list called columns that contains all the data from the column\n",
    "    columns = (data[:, num]).tolist()\n",
    "    # creating empty list\n",
    "    info_list = [] \n",
    "    # for any location in columns\n",
    "    for ii in columns: \n",
    "        # it will be added to list if it's is not in there already\n",
    "        if ii not in info_list: \n",
    "            info_list.append(ii)\n",
    "    # closing the file\n",
    "    data_file.close()\n",
    "    # returns the list\n",
    "    return info_list"
   ]
  },
  {
   "cell_type": "code",
   "execution_count": 7,
   "metadata": {},
   "outputs": [
    {
     "name": "stdout",
     "output_type": "stream",
     "text": [
      "[0.0, nan, 1.0, 6.0, 45.0, 4.0, 2.0, 19.0, nan, 3.0, 22.0, 25.0, nan, 46.0, 27.0, nan, 29.0, 16.0, nan, 5.0, 48.0, 10.0, nan, 35.0, 23.0, nan, 34.0, 14.0, 17.0, 50.0, 9.0, 11.0, nan, 7.0, 32.0, nan, 33.0, 44.0, 8.0, nan, nan, 38.0, 47.0, 26.0, nan, 13.0, 105.0, nan, 43.0, 39.0, nan, 12.0, 31.0, nan, nan, nan, 28.0, 64.0, nan, nan, nan, 15.0, nan, nan, nan, nan, 21.0]\n"
     ]
    }
   ],
   "source": [
    "print(extractinfo('Karan_Dataset.csv', 6))"
   ]
  },
  {
   "cell_type": "code",
   "execution_count": null,
   "metadata": {},
   "outputs": [],
   "source": []
  }
 ],
 "metadata": {
  "kernelspec": {
   "display_name": "Python 3",
   "language": "python",
   "name": "python3"
  },
  "language_info": {
   "codemirror_mode": {
    "name": "ipython",
    "version": 3
   },
   "file_extension": ".py",
   "mimetype": "text/x-python",
   "name": "python",
   "nbconvert_exporter": "python",
   "pygments_lexer": "ipython3",
   "version": "3.7.5"
  }
 },
 "nbformat": 4,
 "nbformat_minor": 2
}
